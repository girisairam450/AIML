{
  "nbformat": 4,
  "nbformat_minor": 0,
  "metadata": {
    "colab": {
      "name": "LinearRegression.ipynb",
      "provenance": []
    },
    "kernelspec": {
      "name": "python3",
      "display_name": "Python 3"
    }
  },
  "cells": [
    {
      "cell_type": "code",
      "metadata": {
        "id": "7D6fKGQd1P86"
      },
      "source": [
        ""
      ],
      "execution_count": null,
      "outputs": []
    },
    {
      "cell_type": "code",
      "metadata": {
        "id": "1t-xlUx-1SE-"
      },
      "source": [
        "import torch\r\n",
        "import torch.nn as nn\r\n",
        "import numpy as np\r\n",
        "from sklearn import datasets\r\n",
        "import matplotlib.pyplot as plt"
      ],
      "execution_count": null,
      "outputs": []
    },
    {
      "cell_type": "code",
      "metadata": {
        "id": "vLTSu2xC1UaW"
      },
      "source": [
        "# 0) Prepare data\r\n",
        "X_numpy, y_numpy = datasets.make_regression(n_samples=100, n_features=1, noise=20, random_state=4)"
      ],
      "execution_count": null,
      "outputs": []
    },
    {
      "cell_type": "code",
      "metadata": {
        "id": "2c2tKymT1XOy"
      },
      "source": [
        "# cast to float Tensor\r\n",
        "X = torch.from_numpy(X_numpy.astype(np.float32))\r\n",
        "y = torch.from_numpy(y_numpy.astype(np.float32))\r\n",
        "y = y.view(y.shape[0], 1)"
      ],
      "execution_count": null,
      "outputs": []
    },
    {
      "cell_type": "code",
      "metadata": {
        "id": "ATQB7nKw1Zr1"
      },
      "source": [
        "n_samples, n_features = X.shape"
      ],
      "execution_count": null,
      "outputs": []
    },
    {
      "cell_type": "code",
      "metadata": {
        "id": "YOLBVyPr1b9s"
      },
      "source": [
        "# 1) Model\r\n",
        "# Linear model f = wx + b\r\n",
        "input_size = n_features\r\n",
        "output_size = 1\r\n",
        "model = nn.Linear(input_size, output_size)"
      ],
      "execution_count": null,
      "outputs": []
    },
    {
      "cell_type": "code",
      "metadata": {
        "id": "spSnwvTW1eXo"
      },
      "source": [
        "# 2) Loss and optimizer\r\n",
        "learning_rate = 0.01\r\n",
        "\r\n",
        "criterion = nn.MSELoss()\r\n",
        "optimizer = torch.optim.SGD(model.parameters(), lr=learning_rate) "
      ],
      "execution_count": null,
      "outputs": []
    },
    {
      "cell_type": "code",
      "metadata": {
        "colab": {
          "base_uri": "https://localhost:8080/",
          "height": 435
        },
        "id": "QwbNuYnr1SSk",
        "outputId": "2476d91a-e8e2-470d-bd28-19603bea92d9"
      },
      "source": [
        "\r\n",
        "# 3) Training loop\r\n",
        "num_epochs = 100\r\n",
        "for epoch in range(num_epochs):\r\n",
        "    # Forward pass and loss\r\n",
        "    y_predicted = model(X)\r\n",
        "    loss = criterion(y_predicted, y)\r\n",
        "    \r\n",
        "    # Backward pass and update\r\n",
        "    loss.backward()\r\n",
        "    optimizer.step()\r\n",
        "\r\n",
        "    # zero grad before new step\r\n",
        "    optimizer.zero_grad()\r\n",
        "\r\n",
        "    if (epoch+1) % 10 == 0:\r\n",
        "        print(f'epoch: {epoch+1}, loss = {loss.item():.4f}')\r\n",
        "\r\n",
        "# Plot\r\n",
        "predicted = model(X).detach().numpy()\r\n",
        "\r\n",
        "plt.plot(X_numpy, y_numpy, 'ro')\r\n",
        "plt.plot(X_numpy, predicted, 'b')\r\n",
        "plt.show()"
      ],
      "execution_count": null,
      "outputs": [
        {
          "output_type": "stream",
          "text": [
            "epoch: 10, loss = 4151.2778\n",
            "epoch: 20, loss = 2923.6238\n",
            "epoch: 30, loss = 2086.6694\n",
            "epoch: 40, loss = 1515.9546\n",
            "epoch: 50, loss = 1126.7067\n",
            "epoch: 60, loss = 861.1716\n",
            "epoch: 70, loss = 679.9941\n",
            "epoch: 80, loss = 556.3509\n",
            "epoch: 90, loss = 471.9554\n",
            "epoch: 100, loss = 414.3389\n"
          ],
          "name": "stdout"
        },
        {
          "output_type": "display_data",
          "data": {
            "image/png": "[encoded data removed]",
            "text/plain": [
              "<Figure size 432x288 with 1 Axes>"
            ]
          },
          "metadata": {
            "tags": [],
            "needs_background": "light"
          }
        }
      ]
    }
  ]
}