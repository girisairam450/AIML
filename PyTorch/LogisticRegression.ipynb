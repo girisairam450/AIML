{
  "nbformat": 4,
  "nbformat_minor": 0,
  "metadata": {
    "colab": {
      "name": "LogisticRegression.ipynb",
      "provenance": []
    },
    "kernelspec": {
      "name": "python3",
      "display_name": "Python 3"
    }
  },
  "cells": [
    {
      "cell_type": "code",
      "metadata": {
        "id": "caELKJMg1qDP"
      },
      "source": [
        ""
      ],
      "execution_count": null,
      "outputs": []
    },
    {
      "cell_type": "code",
      "metadata": {
        "id": "5kX70CJy1vSE"
      },
      "source": [
        "import torch\r\n",
        "import torch.nn as nn\r\n",
        "import numpy as np\r\n",
        "from sklearn import datasets\r\n",
        "from sklearn.preprocessing import StandardScaler\r\n",
        "from sklearn.model_selection import train_test_split"
      ],
      "execution_count": null,
      "outputs": []
    },
    {
      "cell_type": "code",
      "metadata": {
        "id": "qukYguvu1vhg"
      },
      "source": [
        "# 0) Prepare data\r\n",
        "bc = datasets.load_breast_cancer()\r\n",
        "X, y = bc.data, bc.target"
      ],
      "execution_count": null,
      "outputs": []
    },
    {
      "cell_type": "code",
      "metadata": {
        "id": "EfbLwdAM1zy0"
      },
      "source": [
        "n_samples, n_features = X.shape"
      ],
      "execution_count": null,
      "outputs": []
    },
    {
      "cell_type": "code",
      "metadata": {
        "id": "3UjOrHr4118V"
      },
      "source": [
        "\r\n",
        "X_train, X_test, y_train, y_test = train_test_split(X, y, test_size=0.2, random_state=1234)"
      ],
      "execution_count": null,
      "outputs": []
    },
    {
      "cell_type": "code",
      "metadata": {
        "id": "oe-jamrs14Xo"
      },
      "source": [
        "# scale\r\n",
        "sc = StandardScaler()\r\n",
        "X_train = sc.fit_transform(X_train)\r\n",
        "X_test = sc.transform(X_test)"
      ],
      "execution_count": null,
      "outputs": []
    },
    {
      "cell_type": "code",
      "metadata": {
        "id": "J3MHlUcM16mW"
      },
      "source": [
        "\r\n",
        "X_train = torch.from_numpy(X_train.astype(np.float32))\r\n",
        "X_test = torch.from_numpy(X_test.astype(np.float32))\r\n",
        "y_train = torch.from_numpy(y_train.astype(np.float32))\r\n",
        "y_test = torch.from_numpy(y_test.astype(np.float32))"
      ],
      "execution_count": null,
      "outputs": []
    },
    {
      "cell_type": "code",
      "metadata": {
        "colab": {
          "base_uri": "https://localhost:8080/"
        },
        "id": "rifpcrONbJRq",
        "outputId": "ec15c71f-93ba-403b-94de-a75c2599c947"
      },
      "source": [
        "y_train.shape[0]"
      ],
      "execution_count": null,
      "outputs": [
        {
          "output_type": "execute_result",
          "data": {
            "text/plain": [
              "455"
            ]
          },
          "metadata": {
            "tags": []
          },
          "execution_count": 9
        }
      ]
    },
    {
      "cell_type": "code",
      "metadata": {
        "id": "2fBoprPh18zk"
      },
      "source": [
        "y_train = y_train.view(y_train.shape[0], 1)\r\n",
        "y_test = y_test.view(y_test.shape[0], 1)\r\n"
      ],
      "execution_count": null,
      "outputs": []
    },
    {
      "cell_type": "code",
      "metadata": {
        "id": "vtwJXdng1_S4"
      },
      "source": [
        "# 1) Model\r\n",
        "# Linear model f = wx + b , sigmoid at the end\r\n",
        "class Model(nn.Module):\r\n",
        "    def __init__(self, n_input_features):\r\n",
        "        super(Model, self).__init__()\r\n",
        "        self.linear = nn.Linear(n_input_features, 1)\r\n",
        "\r\n",
        "    def forward(self, x):\r\n",
        "        y_pred = torch.sigmoid(self.linear(x))\r\n",
        "        return y_pred\r\n",
        "\r\n",
        "model = Model(n_features)"
      ],
      "execution_count": null,
      "outputs": []
    },
    {
      "cell_type": "code",
      "metadata": {
        "id": "PNl3jUn42DC5"
      },
      "source": [
        "# 2) Loss and optimizer\r\n",
        "num_epochs = 100\r\n",
        "learning_rate = 0.01\r\n",
        "criterion = nn.BCELoss()\r\n",
        "optimizer = torch.optim.SGD(model.parameters(), lr=learning_rate)"
      ],
      "execution_count": null,
      "outputs": []
    },
    {
      "cell_type": "code",
      "metadata": {
        "colab": {
          "base_uri": "https://localhost:8080/"
        },
        "id": "uUNlWkWv1vvR",
        "outputId": "f6042af3-7ba6-4f49-ddef-252428be4d15"
      },
      "source": [
        "# 3) Training loop\r\n",
        "for epoch in range(num_epochs):\r\n",
        "    # Forward pass and loss\r\n",
        "    y_pred = model(X_train)\r\n",
        "    loss = criterion(y_pred, y_train)\r\n",
        "\r\n",
        "    # Backward pass and update\r\n",
        "    loss.backward()\r\n",
        "    optimizer.step()\r\n",
        "\r\n",
        "    # zero grad before new step\r\n",
        "    optimizer.zero_grad()\r\n",
        "\r\n",
        "    if (epoch+1) % 10 == 0:\r\n",
        "        print(f'epoch: {epoch+1}, loss = {loss.item():.4f}')\r\n",
        "\r\n",
        "\r\n",
        "with torch.no_grad():\r\n",
        "    y_predicted = model(X_test)\r\n",
        "    y_predicted_cls = y_predicted.round()\r\n",
        "    acc = y_predicted_cls.eq(y_test).sum() / float(y_test.shape[0])\r\n",
        "    print(f'accuracy: {acc.item():.4f}')"
      ],
      "execution_count": null,
      "outputs": [
        {
          "output_type": "stream",
          "text": [
            "epoch: 10, loss = 0.5075\n",
            "epoch: 20, loss = 0.4359\n",
            "epoch: 30, loss = 0.3875\n",
            "epoch: 40, loss = 0.3520\n",
            "epoch: 50, loss = 0.3248\n",
            "epoch: 60, loss = 0.3029\n",
            "epoch: 70, loss = 0.2849\n",
            "epoch: 80, loss = 0.2698\n",
            "epoch: 90, loss = 0.2568\n",
            "epoch: 100, loss = 0.2455\n",
            "accuracy: 0.9211\n"
          ],
          "name": "stdout"
        }
      ]
    }
  ]
}