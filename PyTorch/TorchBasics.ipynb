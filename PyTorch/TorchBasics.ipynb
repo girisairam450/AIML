{
  "nbformat": 4,
  "nbformat_minor": 0,
  "metadata": {
    "colab": {
      "name": "TorchBasics.ipynb",
      "provenance": []
    },
    "kernelspec": {
      "name": "python3",
      "display_name": "Python 3"
    }
  },
  "cells": [
    {
      "cell_type": "code",
      "metadata": {
        "id": "6FrjPxIKxuCv"
      },
      "source": [
        ""
      ],
      "execution_count": null,
      "outputs": []
    },
    {
      "cell_type": "code",
      "metadata": {
        "id": "Dm3lskyLx1vl"
      },
      "source": [
        "import torch\r\n",
        "\r\n",
        "# Everything in pytorch is based on Tensor operations.\r\n",
        "# A tensor can have different dimensions\r\n",
        "# so it can be 1d, 2d, or even 3d and higher\r\n",
        "\r\n",
        "# scalar, vector, matrix, tensor\r\n",
        "\r\n",
        "# torch.empty(size): uninitiallized"
      ],
      "execution_count": null,
      "outputs": []
    },
    {
      "cell_type": "code",
      "metadata": {
        "colab": {
          "base_uri": "https://localhost:8080/"
        },
        "id": "dsA7tn3Ex7H4",
        "outputId": "dd68c647-2ef3-493d-8921-14ad8d251d3e"
      },
      "source": [
        "x = torch.empty(1) # scalar\r\n",
        "print(x)"
      ],
      "execution_count": null,
      "outputs": [
        {
          "output_type": "stream",
          "text": [
            "tensor([-1.2728e-16])\n"
          ],
          "name": "stdout"
        }
      ]
    },
    {
      "cell_type": "code",
      "metadata": {
        "colab": {
          "base_uri": "https://localhost:8080/"
        },
        "id": "-uSoUmXnx-Ax",
        "outputId": "f4ae611e-a5f8-4d33-fe5d-dd9efdbcbe24"
      },
      "source": [
        "x = torch.empty(2,3) # matrix, 2D\r\n",
        "print(x)"
      ],
      "execution_count": null,
      "outputs": [
        {
          "output_type": "stream",
          "text": [
            "tensor([[-1.2727e-16,  3.0653e-41,  3.3631e-44],\n",
            "        [ 0.0000e+00,         nan,  0.0000e+00]])\n"
          ],
          "name": "stdout"
        }
      ]
    },
    {
      "cell_type": "code",
      "metadata": {
        "colab": {
          "base_uri": "https://localhost:8080/"
        },
        "id": "ycdmMpMyyBne",
        "outputId": "0c790d59-5a7a-4481-814d-775a2969fb36"
      },
      "source": [
        "x = torch.empty(2,2,3) # tensor, 3 dimensions\r\n",
        "#x = torch.empty(2,2,2,3) # tensor, 4 dimensions\r\n",
        "print(x)"
      ],
      "execution_count": null,
      "outputs": [
        {
          "output_type": "stream",
          "text": [
            "tensor([[[5.2383e-09, 3.0716e-41, 0.0000e+00],\n",
            "         [0.0000e+00, 0.0000e+00, 0.0000e+00]],\n",
            "\n",
            "        [[0.0000e+00, 0.0000e+00, 0.0000e+00],\n",
            "         [0.0000e+00, 0.0000e+00, 0.0000e+00]]])\n"
          ],
          "name": "stdout"
        }
      ]
    },
    {
      "cell_type": "code",
      "metadata": {
        "colab": {
          "base_uri": "https://localhost:8080/"
        },
        "id": "6pYCNU0VyEcK",
        "outputId": "1556a0ad-8166-4d2b-9d58-d3564bebdbf1"
      },
      "source": [
        "# torch.rand(size): random numbers [0, 1]\r\n",
        "x = torch.rand(5, 3)\r\n",
        "print(x)"
      ],
      "execution_count": null,
      "outputs": [
        {
          "output_type": "stream",
          "text": [
            "tensor([[0.5455, 0.1032, 0.2573],\n",
            "        [0.6372, 0.4958, 0.3124],\n",
            "        [0.1868, 0.7183, 0.9998],\n",
            "        [0.9866, 0.7832, 0.3214],\n",
            "        [0.9040, 0.6407, 0.0557]])\n"
          ],
          "name": "stdout"
        }
      ]
    },
    {
      "cell_type": "code",
      "metadata": {
        "colab": {
          "base_uri": "https://localhost:8080/"
        },
        "id": "uR1cv7scyHwC",
        "outputId": "0413dd8d-8065-4e0d-f663-f4cff90b2531"
      },
      "source": [
        "# torch.zeros(size), fill with 0\r\n",
        "# torch.ones(size), fill with 1\r\n",
        "x = torch.zeros(5, 3)\r\n",
        "print(x)\r\n"
      ],
      "execution_count": null,
      "outputs": [
        {
          "output_type": "stream",
          "text": [
            "tensor([[0., 0., 0.],\n",
            "        [0., 0., 0.],\n",
            "        [0., 0., 0.],\n",
            "        [0., 0., 0.],\n",
            "        [0., 0., 0.]])\n"
          ],
          "name": "stdout"
        }
      ]
    },
    {
      "cell_type": "code",
      "metadata": {
        "colab": {
          "base_uri": "https://localhost:8080/"
        },
        "id": "jOcFycpByMc4",
        "outputId": "480c1e37-e01f-46c7-db3a-30572527a2ac"
      },
      "source": [
        "# check size\r\n",
        "print(x.size())"
      ],
      "execution_count": null,
      "outputs": [
        {
          "output_type": "stream",
          "text": [
            "torch.Size([5, 3])\n"
          ],
          "name": "stdout"
        }
      ]
    },
    {
      "cell_type": "code",
      "metadata": {
        "colab": {
          "base_uri": "https://localhost:8080/"
        },
        "id": "bF5eEnqyyRhp",
        "outputId": "efdc3ac9-6abc-4a20-faec-ec6f35c6c139"
      },
      "source": [
        "# specify types, float32 default\r\n",
        "x = torch.zeros(5, 3, dtype=torch.float16)\r\n",
        "print(x)"
      ],
      "execution_count": null,
      "outputs": [
        {
          "output_type": "stream",
          "text": [
            "tensor([[0., 0., 0.],\n",
            "        [0., 0., 0.],\n",
            "        [0., 0., 0.],\n",
            "        [0., 0., 0.],\n",
            "        [0., 0., 0.]], dtype=torch.float16)\n"
          ],
          "name": "stdout"
        }
      ]
    },
    {
      "cell_type": "code",
      "metadata": {
        "colab": {
          "base_uri": "https://localhost:8080/"
        },
        "id": "n09KCsSMyIKr",
        "outputId": "701dfd44-70bd-4403-a1cf-343567f722ab"
      },
      "source": [
        "# check type\r\n",
        "print(x.dtype)"
      ],
      "execution_count": null,
      "outputs": [
        {
          "output_type": "stream",
          "text": [
            "torch.float16\n"
          ],
          "name": "stdout"
        }
      ]
    },
    {
      "cell_type": "code",
      "metadata": {
        "id": "oWjahtLIGu1T"
      },
      "source": [
        "[3.4.5]"
      ],
      "execution_count": null,
      "outputs": []
    },
    {
      "cell_type": "code",
      "metadata": {
        "colab": {
          "base_uri": "https://localhost:8080/"
        },
        "id": "Ckydr433yVX8",
        "outputId": "4163fcf3-d458-4d80-aeda-39badb4152bf"
      },
      "source": [
        "# construct from data\r\n",
        "x = torch.tensor([5.5, 3])\r\n",
        "print(x.size())"
      ],
      "execution_count": null,
      "outputs": [
        {
          "output_type": "stream",
          "text": [
            "torch.Size([2])\n"
          ],
          "name": "stdout"
        }
      ]
    },
    {
      "cell_type": "code",
      "metadata": {
        "id": "vk1-GQAPykzp"
      },
      "source": [
        "# requires_grad argument\r\n",
        "# This will tell pytorch that it will need to calculate the gradients for this tensor\r\n",
        "# later in your optimization steps\r\n",
        "# i.e. this is a variable in your model that you want to optimize\r\n",
        "x = torch.tensor([5.5, 3], requires_grad=True)"
      ],
      "execution_count": null,
      "outputs": []
    },
    {
      "cell_type": "code",
      "metadata": {
        "id": "poA_RETJymu3"
      },
      "source": [
        "# Operations\r\n",
        "y = torch.rand(2, 2)\r\n",
        "x = torch.rand(2, 2)"
      ],
      "execution_count": null,
      "outputs": []
    },
    {
      "cell_type": "code",
      "metadata": {
        "colab": {
          "base_uri": "https://localhost:8080/"
        },
        "id": "sBkN66odyo9q",
        "outputId": "9953ab25-147e-4be0-9a4e-4f6c27341144"
      },
      "source": [
        "# elementwise addition\r\n",
        "#z = x + y\r\n",
        "torch.add(x,y)"
      ],
      "execution_count": null,
      "outputs": [
        {
          "output_type": "execute_result",
          "data": {
            "text/plain": [
              "tensor([[0.6257, 1.0911],\n",
              "        [0.2999, 1.0425]])"
            ]
          },
          "metadata": {
            "tags": []
          },
          "execution_count": 16
        }
      ]
    },
    {
      "cell_type": "code",
      "metadata": {
        "colab": {
          "base_uri": "https://localhost:8080/"
        },
        "id": "LYCsIi2wyr6S",
        "outputId": "b805a1e0-3ed0-4ee4-efaa-88ae5fcf8932"
      },
      "source": [
        "\r\n",
        "# in place addition, everythin with a trailing underscore is an inplace operation\r\n",
        "# i.e. it will modify the variable\r\n",
        "y.add_(x)\r\n"
      ],
      "execution_count": null,
      "outputs": [
        {
          "output_type": "execute_result",
          "data": {
            "text/plain": [
              "tensor([[1.1227, 0.5561],\n",
              "        [1.3087, 1.1667]])"
            ]
          },
          "metadata": {
            "tags": []
          },
          "execution_count": 18
        }
      ]
    },
    {
      "cell_type": "code",
      "metadata": {
        "id": "F7i_TKtiyuIR"
      },
      "source": [
        "# substraction\r\n",
        "z = x - y\r\n",
        "z = torch.sub(x, y)"
      ],
      "execution_count": null,
      "outputs": []
    },
    {
      "cell_type": "code",
      "metadata": {
        "id": "lfWzQv1Kyu83"
      },
      "source": [
        "# multiplication\r\n",
        "z = x * y\r\n",
        "z = torch.mul(x,y)"
      ],
      "execution_count": null,
      "outputs": []
    },
    {
      "cell_type": "code",
      "metadata": {
        "id": "X266d9KGyw_n"
      },
      "source": [
        "# division\r\n",
        "z = x / y\r\n",
        "z = torch.div(x,y)"
      ],
      "execution_count": null,
      "outputs": []
    },
    {
      "cell_type": "code",
      "metadata": {
        "colab": {
          "base_uri": "https://localhost:8080/"
        },
        "id": "hd-g9IOuyy4Z",
        "outputId": "96fef16d-5d7e-4e5c-fd22-e64bbaa3fb02"
      },
      "source": [
        "# Slicing\r\n",
        "x = torch.rand(5,3)\r\n",
        "print(x)\r\n"
      ],
      "execution_count": null,
      "outputs": [
        {
          "output_type": "stream",
          "text": [
            "tensor([[0.9635, 0.4355, 0.3096],\n",
            "        [0.6646, 0.4321, 0.4975],\n",
            "        [0.1182, 0.1815, 0.9031],\n",
            "        [0.7026, 0.0444, 0.5762],\n",
            "        [0.2425, 0.1226, 0.4331]])\n"
          ],
          "name": "stdout"
        }
      ]
    },
    {
      "cell_type": "code",
      "metadata": {
        "colab": {
          "base_uri": "https://localhost:8080/"
        },
        "id": "dmVQXfxrIeEZ",
        "outputId": "566599f4-2ce8-46b9-b545-3a4cdc14b489"
      },
      "source": [
        "print(x[:, 0])"
      ],
      "execution_count": null,
      "outputs": [
        {
          "output_type": "stream",
          "text": [
            "tensor([0.9635, 0.6646, 0.1182, 0.7026, 0.2425])\n"
          ],
          "name": "stdout"
        }
      ]
    },
    {
      "cell_type": "code",
      "metadata": {
        "colab": {
          "base_uri": "https://localhost:8080/"
        },
        "id": "_ZNDXFmJIqZQ",
        "outputId": "d456b9fc-4bed-4b41-deb3-881e49c3b8f1"
      },
      "source": [
        "print(x[1, :])"
      ],
      "execution_count": null,
      "outputs": [
        {
          "output_type": "stream",
          "text": [
            "tensor([0.6646, 0.4321, 0.4975])\n"
          ],
          "name": "stdout"
        }
      ]
    },
    {
      "cell_type": "code",
      "metadata": {
        "colab": {
          "base_uri": "https://localhost:8080/"
        },
        "id": "xDQpIXZII8SI",
        "outputId": "762ae362-5b15-4228-d43c-d8030020183e"
      },
      "source": [
        "print(x[1,1])"
      ],
      "execution_count": null,
      "outputs": [
        {
          "output_type": "stream",
          "text": [
            "tensor(0.4321)\n"
          ],
          "name": "stdout"
        }
      ]
    },
    {
      "cell_type": "code",
      "metadata": {
        "colab": {
          "base_uri": "https://localhost:8080/"
        },
        "id": "cWCm3pNZy3EE",
        "outputId": "c2b9abe5-ff63-42a0-e255-c102d85c655f"
      },
      "source": [
        "\r\n",
        "# Get the actual value if only 1 element in your tensor\r\n",
        "print(x[1,1].item())"
      ],
      "execution_count": null,
      "outputs": [
        {
          "output_type": "stream",
          "text": [
            "0.5163143873214722\n"
          ],
          "name": "stdout"
        }
      ]
    },
    {
      "cell_type": "code",
      "metadata": {
        "id": "q9MUplq9JLu9"
      },
      "source": [
        "# Reshape with torch.view()\r\n",
        "x = torch.randn(4, 4)"
      ],
      "execution_count": null,
      "outputs": []
    },
    {
      "cell_type": "code",
      "metadata": {
        "colab": {
          "base_uri": "https://localhost:8080/"
        },
        "id": "GwHKC0tIJNP2",
        "outputId": "4d0bd492-0458-4fb9-dd7c-cc8e4cd73cff"
      },
      "source": [
        "y = x.view(16)\r\n",
        "y"
      ],
      "execution_count": null,
      "outputs": [
        {
          "output_type": "execute_result",
          "data": {
            "text/plain": [
              "tensor([-0.3137,  0.0355, -0.5909,  0.7535,  0.3184,  0.3194,  0.4223,  0.5721,\n",
              "         0.9153,  1.3459, -0.0317,  2.2633,  0.2952,  0.1072, -0.4903, -0.3094])"
            ]
          },
          "metadata": {
            "tags": []
          },
          "execution_count": 26
        }
      ]
    },
    {
      "cell_type": "code",
      "metadata": {
        "colab": {
          "base_uri": "https://localhost:8080/"
        },
        "id": "9ndSIZq9JYU8",
        "outputId": "a8004531-a4a0-4a69-b4c2-0e5521b028e3"
      },
      "source": [
        "z = x.view(-1, 8)\r\n",
        "z"
      ],
      "execution_count": null,
      "outputs": [
        {
          "output_type": "execute_result",
          "data": {
            "text/plain": [
              "tensor([[-0.3137,  0.0355, -0.5909,  0.7535,  0.3184,  0.3194,  0.4223,  0.5721],\n",
              "        [ 0.9153,  1.3459, -0.0317,  2.2633,  0.2952,  0.1072, -0.4903, -0.3094]])"
            ]
          },
          "metadata": {
            "tags": []
          },
          "execution_count": 28
        }
      ]
    },
    {
      "cell_type": "code",
      "metadata": {
        "colab": {
          "base_uri": "https://localhost:8080/"
        },
        "id": "no-fLiJ_Jo-S",
        "outputId": "0a76f991-f45b-4376-8c2b-5aadd3dba8b7"
      },
      "source": [
        "print(x.size(), y.size(), z.size())"
      ],
      "execution_count": null,
      "outputs": [
        {
          "output_type": "stream",
          "text": [
            "torch.Size([4, 4]) torch.Size([16]) torch.Size([2, 8])\n"
          ],
          "name": "stdout"
        }
      ]
    },
    {
      "cell_type": "code",
      "metadata": {
        "colab": {
          "base_uri": "https://localhost:8080/"
        },
        "id": "jehrVFTwy5E5",
        "outputId": "480a4a59-ce96-4870-9e4f-68014edeaeef"
      },
      "source": [
        "# Reshape with torch.view()\r\n",
        "x = torch.randn(4, 4)\r\n",
        "y = x.view(16)\r\n",
        "z = x.view(-1, 8)  # the size -1 is inferred from other dimensions\r\n",
        "# if -1 it pytorch will automatically determine the necessary size\r\n",
        "print(x.size(), y.size(), z.size())"
      ],
      "execution_count": null,
      "outputs": [
        {
          "output_type": "stream",
          "text": [
            "torch.Size([4, 4]) torch.Size([16]) torch.Size([2, 8])\n"
          ],
          "name": "stdout"
        }
      ]
    },
    {
      "cell_type": "code",
      "metadata": {
        "colab": {
          "base_uri": "https://localhost:8080/"
        },
        "id": "g517SuS2y7Sn",
        "outputId": "d3c4f467-d4c7-4f9e-efbd-e3751fc48605"
      },
      "source": [
        "\r\n",
        "# Numpy\r\n",
        "# Converting a Torch Tensor to a NumPy array and vice versa is very easy\r\n",
        "a = torch.ones(5)\r\n",
        "print(a)"
      ],
      "execution_count": null,
      "outputs": [
        {
          "output_type": "stream",
          "text": [
            "tensor([1., 1., 1., 1., 1.])\n"
          ],
          "name": "stdout"
        }
      ]
    },
    {
      "cell_type": "code",
      "metadata": {
        "colab": {
          "base_uri": "https://localhost:8080/"
        },
        "id": "qbM2Zu7jy-Oq",
        "outputId": "20efbe96-7f34-4e21-a957-3cb2f78b1f0a"
      },
      "source": [
        "# torch to numpy with .numpy()\r\n",
        "b = a.numpy()\r\n",
        "print(b)\r\n",
        "print(type(b))\r\n"
      ],
      "execution_count": null,
      "outputs": [
        {
          "output_type": "stream",
          "text": [
            "[1. 1. 1. 1. 1.]\n",
            "<class 'numpy.ndarray'>\n"
          ],
          "name": "stdout"
        }
      ]
    },
    {
      "cell_type": "code",
      "metadata": {
        "colab": {
          "base_uri": "https://localhost:8080/"
        },
        "id": "SMgUZ-ztKJzO",
        "outputId": "a7f1b159-e2c7-431d-fa5c-0b41bec07780"
      },
      "source": [
        "a.add_(1)\r\n"
      ],
      "execution_count": null,
      "outputs": [
        {
          "output_type": "execute_result",
          "data": {
            "text/plain": [
              "tensor([2., 2., 2., 2., 2.])"
            ]
          },
          "metadata": {
            "tags": []
          },
          "execution_count": 33
        }
      ]
    },
    {
      "cell_type": "code",
      "metadata": {
        "colab": {
          "base_uri": "https://localhost:8080/"
        },
        "id": "X9UAhe6cKTbA",
        "outputId": "5c61a4b3-070f-4f8b-9708-43593a3ff888"
      },
      "source": [
        "print(b)"
      ],
      "execution_count": null,
      "outputs": [
        {
          "output_type": "stream",
          "text": [
            "[2. 2. 2. 2. 2.]\n"
          ],
          "name": "stdout"
        }
      ]
    },
    {
      "cell_type": "code",
      "metadata": {
        "colab": {
          "base_uri": "https://localhost:8080/"
        },
        "id": "Cn33XicAzADS",
        "outputId": "afd80371-c2e6-4794-fac2-ac9e949e95ae"
      },
      "source": [
        "# Carful: If the Tensor is on the CPU (not the GPU),\r\n",
        "# both objects will share the same memory location, so changing one\r\n",
        "# will also change the other\r\n",
        "a.add_(1)\r\n",
        "print(a)\r\n",
        "print(b)"
      ],
      "execution_count": null,
      "outputs": [
        {
          "output_type": "stream",
          "text": [
            "tensor([2., 2., 2., 2., 2.])\n",
            "[2. 2. 2. 2. 2.]\n"
          ],
          "name": "stdout"
        }
      ]
    },
    {
      "cell_type": "code",
      "metadata": {
        "id": "Uq4-GqFfzCy4"
      },
      "source": [
        "\r\n",
        "# numpy to torch with .from_numpy(x)\r\n",
        "import numpy as np\r\n",
        "a = np.ones(5)\r\n"
      ],
      "execution_count": null,
      "outputs": []
    },
    {
      "cell_type": "code",
      "metadata": {
        "id": "XdYxEco2KgYS"
      },
      "source": [
        "b = torch.from_numpy(a)\r\n",
        "print(a)\r\n",
        "print(b)"
      ],
      "execution_count": null,
      "outputs": []
    },
    {
      "cell_type": "code",
      "metadata": {
        "colab": {
          "base_uri": "https://localhost:8080/"
        },
        "id": "5UIqF2rnzEnB",
        "outputId": "0c76025c-5ba9-43f9-8435-78a058d5871b"
      },
      "source": [
        "# again be careful when modifying\r\n",
        "a += 1\r\n",
        "print(a)\r\n",
        "print(b)\r\n"
      ],
      "execution_count": null,
      "outputs": [
        {
          "output_type": "stream",
          "text": [
            "[2. 2. 2. 2. 2.]\n",
            "tensor([2., 2., 2., 2., 2.], dtype=torch.float64)\n"
          ],
          "name": "stdout"
        }
      ]
    },
    {
      "cell_type": "code",
      "metadata": {
        "id": "cUDVWqtgKwks"
      },
      "source": [
        "# by default all tensors are created on the CPU,\r\n",
        "# but you can also move them to the GPU (only if it's available )\r\n",
        "if torch.cuda.is_available():\r\n",
        "    device = torch.device(\"cuda\")\r\n",
        "    y = torch.ones_like(x, device=device)  # directly create a tensor on GPU\r\n",
        "    x = x.to(device)                       # or just use strings ``.to(\"cuda\")``\r\n",
        "    z = x + y \r\n",
        "     "
      ],
      "execution_count": null,
      "outputs": []
    },
    {
      "cell_type": "code",
      "metadata": {
        "id": "XyLgfs_JLH3n"
      },
      "source": [
        "\r\n",
        "# by default all tensors are created on the CPU,\r\n",
        "# but you can also move them to the GPU (only if it's available )\r\n",
        "if torch.cuda.is_available():\r\n",
        "    device = torch.device(\"cuda\")          # a CUDA device object\r\n",
        "    y = torch.ones_like(x, device=device)  # directly create a tensor on GPU\r\n",
        "    x = x.to(device)                       # or just use strings ``.to(\"cuda\")``\r\n",
        "    z = x + y\r\n",
        "    # z = z.numpy() # not possible because numpy cannot handle GPU tenors\r\n",
        "    # move to CPU again\r\n",
        "    z.to(\"cpu\")       # ``.to`` can also change dtype together!\r\n",
        "    # z = z.numpy()"
      ],
      "execution_count": null,
      "outputs": []
    },
    {
      "cell_type": "code",
      "metadata": {
        "id": "yNWBF6aqyfj_"
      },
      "source": [
        "\r\n",
        "# by default all tensors are created on the CPU,\r\n",
        "# but you can also move them to the GPU (only if it's available )\r\n",
        "if torch.cuda.is_available():\r\n",
        "    device = torch.device(\"cuda\")          # a CUDA device object\r\n",
        "    y = torch.ones_like(x, device=device)  # directly create a tensor on GPU\r\n",
        "    x = x.to(device)                       # or just use strings ``.to(\"cuda\")``\r\n",
        "    z = x + y\r\n",
        "    # z = z.numpy() # not possible because numpy cannot handle GPU tenors\r\n",
        "    # move to CPU again\r\n",
        "    z.to(\"cpu\")       # ``.to`` can also change dtype together!\r\n",
        "    # z = z.numpy()"
      ],
      "execution_count": null,
      "outputs": []
    }
  ]
}