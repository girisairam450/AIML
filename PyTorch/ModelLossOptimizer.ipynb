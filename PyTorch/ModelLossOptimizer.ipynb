{
  "nbformat": 4,
  "nbformat_minor": 0,
  "metadata": {
    "colab": {
      "name": "ModelLossOptimizer.ipynb",
      "provenance": []
    },
    "kernelspec": {
      "name": "python3",
      "display_name": "Python 3"
    }
  },
  "cells": [
    {
      "cell_type": "code",
      "metadata": {
        "id": "hPqVYhxA0mXh"
      },
      "source": [
        "# 1) Design model (input, output, forward pass with different layers)\r\n",
        "# 2) Construct loss and optimizer\r\n",
        "# 3) Training loop\r\n",
        "#       - Forward = compute prediction and loss\r\n",
        "#       - Backward = compute gradients\r\n",
        "#       - Update weights"
      ],
      "execution_count": null,
      "outputs": []
    },
    {
      "cell_type": "code",
      "metadata": {
        "id": "MkcwtL7601zQ"
      },
      "source": [
        "import torch\r\n",
        "import torch.nn as nn\r\n"
      ],
      "execution_count": null,
      "outputs": []
    },
    {
      "cell_type": "code",
      "metadata": {
        "id": "5HEmhMsf06Be"
      },
      "source": [
        "# Linear regression\r\n",
        "# f = w * x \r\n",
        "\r\n",
        "# here : f = 2 * x\r\n",
        "\r\n",
        "# 0) Training samples, watch the shape!\r\n",
        "X = torch.tensor([[1], [2], [3], [4]], dtype=torch.float32)\r\n",
        "Y = torch.tensor([[2], [4], [6], [8]], dtype=torch.float32)"
      ],
      "execution_count": null,
      "outputs": []
    },
    {
      "cell_type": "code",
      "metadata": {
        "colab": {
          "base_uri": "https://localhost:8080/"
        },
        "id": "rp9byYMJV-70",
        "outputId": "ba9d4aa0-5e82-4986-d264-6cbe84047ddb"
      },
      "source": [
        "X"
      ],
      "execution_count": null,
      "outputs": [
        {
          "output_type": "execute_result",
          "data": {
            "text/plain": [
              "tensor([[1.],\n",
              "        [2.],\n",
              "        [3.],\n",
              "        [4.]])"
            ]
          },
          "metadata": {
            "tags": []
          },
          "execution_count": 13
        }
      ]
    },
    {
      "cell_type": "code",
      "metadata": {
        "colab": {
          "base_uri": "https://localhost:8080/"
        },
        "id": "vAalqcfP063i",
        "outputId": "63f6b929-9378-443c-818d-71edd49c1339"
      },
      "source": [
        "n_samples, n_features = X.shape\r\n",
        "print(f'#samples: {n_samples}, #features: {n_features}')\r\n",
        "# 0) create a test sample\r\n",
        "X_test = torch.tensor([5], dtype=torch.float32)"
      ],
      "execution_count": null,
      "outputs": [
        {
          "output_type": "stream",
          "text": [
            "#samples: 4, #features: 1\n"
          ],
          "name": "stdout"
        }
      ]
    },
    {
      "cell_type": "code",
      "metadata": {
        "id": "w-fQRehD09FW"
      },
      "source": [
        "# 1) Design Model, the model has to implement the forward pass!\r\n",
        "# Here we can use a built-in model from PyTorch\r\n",
        "input_size = n_features\r\n",
        "output_size = n_features"
      ],
      "execution_count": null,
      "outputs": []
    },
    {
      "cell_type": "code",
      "metadata": {
        "id": "zeNYOvkf0_hq"
      },
      "source": [
        "\r\n",
        "# we can call this model with samples X\r\n",
        "model = nn.Linear(input_size, output_size)\r\n"
      ],
      "execution_count": null,
      "outputs": []
    },
    {
      "cell_type": "code",
      "metadata": {
        "colab": {
          "base_uri": "https://localhost:8080/",
          "height": 69
        },
        "id": "0TKRIvHO1Bqq",
        "outputId": "b2d84b03-bbfc-468f-e765-cc4dba992711"
      },
      "source": [
        "'''\r\n",
        "class LinearRegression(nn.Module):\r\n",
        "    def __init__(self, input_dim, output_dim):\r\n",
        "        super(LinearRegression, self).__init__()\r\n",
        "        # define diferent layers\r\n",
        "        self.lin = nn.Linear(input_dim, output_dim)\r\n",
        "    def forward(self, x):\r\n",
        "        return self.lin(x)\r\n",
        "model = LinearRegression(input_size, output_size)\r\n",
        "'''"
      ],
      "execution_count": null,
      "outputs": [
        {
          "output_type": "execute_result",
          "data": {
            "application/vnd.google.colaboratory.intrinsic+json": {
              "type": "string"
            },
            "text/plain": [
              "'\\nclass LinearRegression(nn.Module):\\n    def __init__(self, input_dim, output_dim):\\n        super(LinearRegression, self).__init__()\\n        # define diferent layers\\n        self.lin = nn.Linear(input_dim, output_dim)\\n    def forward(self, x):\\n        return self.lin(x)\\nmodel = LinearRegression(input_size, output_size)\\n'"
            ]
          },
          "metadata": {
            "tags": []
          },
          "execution_count": 17
        }
      ]
    },
    {
      "cell_type": "code",
      "metadata": {
        "colab": {
          "base_uri": "https://localhost:8080/"
        },
        "id": "3zYOMWKV1GiB",
        "outputId": "ff848508-bd2b-49e6-c5de-6e16a027ca66"
      },
      "source": [
        "\r\n",
        "print(f'Prediction before training: f(5) = {model(X_test).item():.3f}')"
      ],
      "execution_count": null,
      "outputs": [
        {
          "output_type": "stream",
          "text": [
            "Prediction before training: f(5) = -4.716\n"
          ],
          "name": "stdout"
        }
      ]
    },
    {
      "cell_type": "code",
      "metadata": {
        "id": "583SUuI11HTB"
      },
      "source": [
        "# 2) Define loss and optimizer\r\n",
        "learning_rate = 0.01\r\n",
        "n_iters = 100\r\n",
        "\r\n",
        "loss = nn.MSELoss()\r\n",
        "optimizer = torch.optim.SGD(model.parameters(), lr=learning_rate)\r\n"
      ],
      "execution_count": null,
      "outputs": []
    },
    {
      "cell_type": "code",
      "metadata": {
        "colab": {
          "base_uri": "https://localhost:8080/"
        },
        "id": "Hd1Sjft90tT9",
        "outputId": "ebf113fc-006a-4d6d-e41f-67af95a000cc"
      },
      "source": [
        "# 3) Training loop\r\n",
        "for epoch in range(n_iters):\r\n",
        "    # predict = forward pass with our model\r\n",
        "    y_predicted = model(X)\r\n",
        "\r\n",
        "    # loss\r\n",
        "    l = loss(Y, y_predicted)\r\n",
        "\r\n",
        "    # calculate gradients = backward pass\r\n",
        "    l.backward()\r\n",
        "\r\n",
        "    # update weights\r\n",
        "    optimizer.step()\r\n",
        "\r\n",
        "    # zero the gradients after updating\r\n",
        "    optimizer.zero_grad()\r\n",
        "\r\n",
        "    if epoch % 10 == 0:\r\n",
        "        [w, b] = model.parameters() # unpack parameters\r\n",
        "        print('epoch ', epoch+1, ': w = ', w[0][0].item(), ' loss = ', l)\r\n",
        "\r\n",
        "print(f'Prediction after training: f(5) = {model(X_test).item():.3f}')"
      ],
      "execution_count": null,
      "outputs": [
        {
          "output_type": "stream",
          "text": [
            "epoch  1 : w =  -0.3790295422077179  loss =  tensor(68.3498, grad_fn=<MseLossBackward>)\n",
            "epoch  11 : w =  1.5176442861557007  loss =  tensor(1.7885, grad_fn=<MseLossBackward>)\n",
            "epoch  21 : w =  1.8256670236587524  loss =  tensor(0.0653, grad_fn=<MseLossBackward>)\n",
            "epoch  31 : w =  1.8780698776245117  loss =  tensor(0.0196, grad_fn=<MseLossBackward>)\n",
            "epoch  41 : w =  1.8892722129821777  loss =  tensor(0.0174, grad_fn=<MseLossBackward>)\n",
            "epoch  51 : w =  1.8937655687332153  loss =  tensor(0.0163, grad_fn=<MseLossBackward>)\n",
            "epoch  61 : w =  1.8971002101898193  loss =  tensor(0.0154, grad_fn=<MseLossBackward>)\n",
            "epoch  71 : w =  1.9001713991165161  loss =  tensor(0.0145, grad_fn=<MseLossBackward>)\n",
            "epoch  81 : w =  1.903125286102295  loss =  tensor(0.0136, grad_fn=<MseLossBackward>)\n",
            "epoch  91 : w =  1.9059877395629883  loss =  tensor(0.0128, grad_fn=<MseLossBackward>)\n",
            "Prediction after training: f(5) = 9.812\n"
          ],
          "name": "stdout"
        }
      ]
    }
  ]
}